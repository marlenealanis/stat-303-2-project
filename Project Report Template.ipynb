{
 "cells": [
  {
   "cell_type": "raw",
   "id": "33dd6c4c",
   "metadata": {},
   "source": [
    "---\n",
    "title: \"Project Report\"\n",
    "subtitle: Go Cats\n",
    "author: Lalla-Aicha Adouim, Marlene Alanis, Catherin Heming, Rebecca Muro \n",
    "date: 02/27/2023\n",
    "number-sections: true\n",
    "abstract: _The ABSTRACT is to be in fully-justified italicized text at the top of the report, below the author information. The abstract section must summarise the problem statement, the developed model(s), the metric(s) optimized and the recommendations to the stakeholders based on the model. You may also briefly mention any major EDA-based insights that helped develop the model or directly translated into recommendations to the stakeholders. However, the abstract must not be more than 200 words in length_.\n",
    "format: \n",
    "  html:\n",
    "    toc: true\n",
    "    toc-title: Contents\n",
    "    self-contained: true\n",
    "    font-size: 100%\n",
    "    toc-depth: 4\n",
    "    mainfont: serif\n",
    "jupyter: python3\n",
    "---"
   ]
  },
  {
   "cell_type": "markdown",
   "id": "aba5ee91",
   "metadata": {},
   "source": [
    "## Abstract\n",
    "***Mental health disorders, specifically depression, have become leading problems amongst developed countries in today's society. While we acknowledge that environmental factors contribute to depression, this report explores how more physical factors can be used to predict if someone may suffer from depression. By looking at factors such as alcohol and eating disorders, a model was created that serves to predict the depression rates of a country. Based on this model, po\n",
    "\n"
   ]
  },
  {
   "cell_type": "markdown",
   "id": "93d3d9ed",
   "metadata": {},
   "source": [
    "## Code should be put separately in the code template {-}\n",
    "Your report should be in a research-paper like style. If there is something that can only be explained by showing the code, then you may put it, otherwise do not put the code in the report. We will check your code in the code template. \n",
    "\n",
    "**Delete this section from the report, when using this template.** "
   ]
  },
  {
   "cell_type": "markdown",
   "id": "0116f49b",
   "metadata": {},
   "source": [
    "## Background / Motivation\n",
    "\n",
    "What motivated you to work on this problem?\n",
    "\n",
    "Mention any background about the problem, if it is required to understand your analysis later on."
   ]
  },
  {
   "cell_type": "markdown",
   "id": "86f4acf5",
   "metadata": {},
   "source": [
    "We observed that the United States was the only developed country who didn't have Universal Health Care, and we found this fact intriguing. We decided for this to be our base idea to build off of for our research question. Because we are college students we are always surrounded with different discussions revolving around mental health and we are constantly told about the vast majority of people who have mental health disorders. Due to this, we wondered if this was the same across all developed nations. We were initially interested in studying the comparison with just the US, however if you know anything about developed countries and healthcare, you know US is the outlier and doesn’t offer universal care, making a cross country analysis more challenging unless we’re willing to add low-income nations, which would likely cause extreme bias in our results. Therefore, we decided it would be best to focus on one mental health disorder which was depression. This led us to our final analysis question of \"How do different mental health disorders predict worldwide depression rates?\"."
   ]
  },
  {
   "cell_type": "markdown",
   "id": "84ff1421",
   "metadata": {},
   "source": [
    "## Problem statement \n",
    "\n",
    "Describe your problem statement. Articulate your objectives using absolutely no jargon. Interpret the problem as inference and/or prediction."
   ]
  },
  {
   "cell_type": "markdown",
   "id": "b7533751",
   "metadata": {},
   "source": [
    "Our problem statement was: how do different mental health disorders predict worldwide depression rates? Our objective    was to determine what mental health disorders were the strongest predictors of depression from 1990 until present day. \n",
    "******\n",
    "We also determined that our problem is a prediction problem. This is because we are predicting depression rates based on other mental health rates. In addition to that prediction is used to estimate the value of the response variable whereas inference is used to understand the relationship between the predictors and the response variables and in this case we are looking at estimating the deoression rates based on other mental health disorders. "
   ]
  },
  {
   "cell_type": "markdown",
   "id": "38c7b95f",
   "metadata": {},
   "source": [
    "## Data sources\n",
    "What data did you use? Provide details about your data. Include links to data if you are using open-access data."
   ]
  },
  {
   "cell_type": "markdown",
   "id": "5d851b0d",
   "metadata": {},
   "source": [
    "We used used Global Trends in Mental Disorders, a Kaggle datasource. We used this data because it included several mental disorders from several countries and across a long period of time. With so many data points, it was also flexible to work with as tweaked our project. The data can be found using this link: https://www.kaggle.com/datasets/thedevastator/uncover-global-trends-in-mental-health-disorder"
   ]
  },
  {
   "cell_type": "markdown",
   "id": "8c255035",
   "metadata": {},
   "source": [
    "## Stakeholders\n",
    "Who cares? If you are successful, what difference will it make to them?"
   ]
  },
  {
   "cell_type": "markdown",
   "id": "158ede1d",
   "metadata": {},
   "source": [
    "We focused on three different groups of stake holders: the policy makers and lobbyists, patients, and insurance companies. Beginning with policy makers and lobbyists, our analysis can be used to support universal healthcare or exapnd medicaid coverage. This is our main target audiance, as we believe that poor access to medical care is a huge barrier to individuals being properly treated for mental health disorders. For example, therepists don't always take certain insurance and prices can fall far beyond what many individuals can afford. Especcially, in the U.S. policy makers can take the steps to exapand coverage to all Americans. \n",
    "\n",
    "Patients are the next stakeholder because we want to cut the stigma around mendal health and encourage paitients to make appointments, if available and affordable, to be screened for mental disorders. \n",
    "    \n",
    "An finally, so long as the United States refuses to adopt universal care, insurance companies are very important stakeholders. The companies should feel compelled to expand coverage on mental health care.  "
   ]
  },
  {
   "cell_type": "markdown",
   "id": "fe7ea9bb",
   "metadata": {},
   "source": [
    "## Data quality check / cleaning / preparation \n"
   ]
  },
  {
   "cell_type": "markdown",
   "id": "1d5acec7",
   "metadata": {},
   "source": [
    "|  | unique | missing | max | min | avg\n",
    "| --- | --- | --- | --- | --- | --- | \n",
    "| country | 276 | 0 | na |na |na |\n",
    "| year | 259 | 0 | na |na |na |\n",
    "| Schizophrenia | 25662 | 82678 | na |na |na |\n",
    "| Bipolar Disorder | 19359 | 89147 | na |na |na |\n",
    "| Anxiety Disorders | 6458 | 102085| 8.967330 |2.023393 |3.989921 |\n",
    "| Drug Use Disorders | 6436 | 102085 | 3.452476 |0.383650 |0.862278 |\n",
    "| Depression | 6461 | 102085 | 6.602754 |2.139903 |3.497654 |\n",
    "| Alcohol Use Disorders | 6460 | 102085 | 5.474668 |0.446940 |1.585821 |"
   ]
  },
  {
   "cell_type": "markdown",
   "id": "5bad3639",
   "metadata": {},
   "source": [
    "1. Summary statsitcs for Schizophrenia,  Bipolar Disorder, and Anxiety Disorders. So this showed us that they are not interger or float types and they may need to change into one of those types\n",
    "2. There are 259 years, but we're only interested in more recent years' data. So we would remove anything from too far into the past.\n",
    "3. There are a ton of missing variables but consider the large set of years and the fact that there are still 600 avilable values for Anxiety, drug, depression and alcohol, we're not overly concerned with those numbers\n",
    "4. The percentages seemed reasonable so there was nothing that stuck out to us as needing to be cleaned. In addition, we planned to control for the countries and years used, so we were not concered with any random catgorical inputs in either of those variables."
   ]
  },
  {
   "cell_type": "markdown",
   "id": "fbb11c9b",
   "metadata": {},
   "source": [
    "## Exploratory data analysis"
   ]
  },
  {
   "cell_type": "markdown",
   "id": "e4bd74a9",
   "metadata": {},
   "source": [
    "Put the relevant EDA here (visualizations, tables, etc.) that helped you figure out useful predictors for developing the model(s). Only put the EDA that ended up being useful towards developing your final model(s). \n",
    "\n",
    "List the insights (as bullet points) you got from EDA that ended up being useful towards developing your final model. \n",
    "\n",
    "Again, if there are too many plots / tables, you may put them into appendix, and just mention the insights you got from them."
   ]
  },
  {
   "cell_type": "markdown",
   "id": "125049c3",
   "metadata": {},
   "source": [
    "#### The Pairplot \n",
    "- We used this plot to find the biggest visual predictors of depression. Prior to making schizo, bipolar, and eating disorders from objects to floats, the pairplot demonstrated depression having the most clear correlation with alcohol, drug abuse, and anxiety while also showing anxiety and drug abuse having a strong interaction. We were able to determine the strongest predictors to be \"alcohol\" \"drug\" and \"anxiety\" variables. This then influenced the creation of our model and what interaction variables we decided to create, such as \n",
    "- Of course seeing variables interactions between themselves and depression was useful but it was also helpful to see the interaction between the strongest predictors of depression within themselves which would later aid in creating interaction terms."
   ]
  },
  {
   "cell_type": "markdown",
   "id": "57d3723e",
   "metadata": {},
   "source": [
    "#### Correlation Table\n",
    "- Although we used the pairplot to vidually identify we wanted to make sure that there was a strong relationship between the variables to consider them predictors in our models \n",
    "- From this table we were able to conclude that the strongest mental health predictors of depression were what we had originally thought of drug, anxiety, and alcohol. \n",
    "- We also saw that alcohol & anxiety and drug & anxiety had a high correlation between one another which made us decide that that both of these variable pairs would be interaction terms in our final model "
   ]
  },
  {
   "cell_type": "markdown",
   "id": "06b688f3",
   "metadata": {},
   "source": [
    "#### Residual Plots\n",
    "- We created a simple model to see the initial relationships without interactions, and it looked very wormlike and definitely not random enough. It challenged our model assumption of covariance for sure, and we could see worm-like series of points that were probably a single country's cluster of points across years.\n",
    "- Even with some simple intuitive interactions and transformations, our second residual plot maintained its wormlike country clusters.\n",
    "- In the beginning of our model selection, we hand picked 10 countries to draw data from, but kept increasing the list because of the lack of randomness we saw in the res plot. This was an iterative process, with more countries, we saw more spread in the residuals, but the time component really hurt our residual plot visualizations.\n",
    "- Looking back on this EDA, it was clear that our residual plots were always going to have this issue because they would count as timeseries data. Knowing that accounting for the lack of randomness in residual plots like these involves adding more predictors to increase the independence of the observations and/or adding lag terms, our continued work on the model (ultimately leading to the kfold test) was extremely important."
   ]
  },
  {
   "cell_type": "markdown",
   "id": "3a626289",
   "metadata": {},
   "source": [
    "#### Lasso and Ridge Regression Plots\n",
    "- Our plots showed that the predictors that we did leave in our final dataset are the most optimal for the creation of our model. In both plots, the coefficients tended towards zero very fast, indicating little risk of overfitting and little loss on our train dataset."
   ]
  },
  {
   "cell_type": "markdown",
   "id": "d39c782c",
   "metadata": {},
   "source": [
    "## Approach\n",
    "\n",
    "What kind of a model (linear / logistic / other) did you use? What performance metric(s) did you optimize and why?\n",
    "\n",
    "Is there anything unorthodox / new in your approach? \n",
    "\n",
    "What problems did you anticipate? What problems did you encounter? Did the very first model you tried work? \n",
    "\n",
    "Did your problem already have solution(s) (posted on Kaggle or elsewhere). If yes, then how did you build upon those solutions, what did you do differently? Is your model better as compared to those solutions in terms of prediction / inference?\n",
    "\n",
    "**Important: Mention any code repositories (with citations) or other sources that you used, and specifically what changes you made to them for your project.**"
   ]
  },
  {
   "cell_type": "markdown",
   "id": "71ac6843",
   "metadata": {},
   "source": [
    "- Because of the nature of our problem, we decided to begin with a linear regression model (later using log transformations). The performance metrics we used to evaluate the models and attempted to optimize were RMSE (root mean squared error) and R^2 (correlation coefficient). There is nothing unorthodox or new in our approaach to the problem except possibly the way we optimized the r^2 which was to keep increasing the power in our transformations further than a cubic transformation. \n",
    "- We anticipated plenty of problems one of them being the diversity within the countries we were looking at. We had cleaned the data enough to where the variables themselves weren't a problem it was the way the observation was recorded or very strong outleirs. Just as we predicted this quickly became a problem and we had to clean the data further and analyze outliers and influential points. The very first model that we tried did not come remotely close to having an acceptable RMSE or r^2 because we were testing variables outside of the strongest predictors as well. It wasnt until we focused on the relationship between the stronger predictors themselves that we started to get significant improvement.      Our data did not have solutions posted on kaggle, it more had EDA's exploring other aspects of the data we used to create our models."
   ]
  },
  {
   "cell_type": "markdown",
   "id": "acab331a",
   "metadata": {},
   "source": [
    "## Developing the model"
   ]
  },
  {
   "cell_type": "markdown",
   "id": "ae5ec4c9",
   "metadata": {},
   "source": [
    "Explain the steps taken to develop and improve the base model - informative visualizations / addressing modeling assumption violations / variable transformation / interactions / outlier treatment / influential points treatment / addressing over-fitting / addressing multicollinearity / variable selection - stepwise regression, lasso, ridge regression). \n",
    "\n",
    "Did you succeed in achieving your goal, or did you fail? Why?\n",
    "\n",
    "**Put the final model equation**.\n",
    "\n",
    "***depres_obj_11 = smf.ols(formula = 'depres~ I(alcohol**2)*bipolar*eating_dis*anxiety*drug*schizo \\\n",
    "    +I(bipolar**2)*alcohol*eating_dis*anxiety*drug*schizo+ \\\n",
    "    I(eating_dis**2)*anxiety*alcohol*bipolar*drug*schizo ' , data = train).fit()***         \n",
    "\n",
    "- After cleaning our data, we were able to narrow the predictors we thought would have the largest effect on dperession. Ultimately, we decided to use alcohol, bipolar disorder, eating disorder, anxiety. and schizophrenia as our predictors for depression due to their correlation with depression as seen from our EDA.\n",
    "- Our initial approach was random interactions we saw showing through the pairplots and res plots and other visualizations we made independently, but we had a difficult time creating a strong model from this. Our r-squared was not higher than 0.66 when we made these self-conceived interactions such as raising drug to the sixth power. These interactions were truly us playing around based on visualization, and included models that just had every interaction possible. While this did allow us to be very hands-on with our approach, it was time-consuming and ultimately ineffective. \n",
    "- Using the K fold test from Assignment E was our best approach by giving us an R-squared of 0.99 and RMSE of about 0.065. Once we used the fold test, we were able to have a set of interactions that appeared to fit the model the best.\n",
    "- From this, we were able to achieve our goal of creating a model to predict depression. From our set of selected_interactions, we hand-selected interactions to the second degree in order to simplify and not overwhelm our model.\n",
    "\n",
    "\n",
    "**Important: This section should be rigorous and thorough. Present detailed information about decision you made, why you made them, and any evidence/experimentation to back them up.**"
   ]
  },
  {
   "cell_type": "markdown",
   "id": "1b46343d",
   "metadata": {},
   "source": [
    "## Limitations of the model with regard to inference / prediction"
   ]
  },
  {
   "cell_type": "markdown",
   "id": "c85ead90",
   "metadata": {},
   "source": [
    "If it is inference, will the inference hold for a certain period of time, for a certain subset of population, and / or for certain conditions.\n",
    "\n",
    "If it is prediction, then will it be possible / convenient / expensive for the stakeholders to collect the data relating to the predictors in the model. Using your model, how soon will the stakeholder be able to predict the outcome before the outcome occurs. For example, if the model predicts the number of bikes people will rent in Evanston on a certain day, then how many days before that day will your model be able to make the prediction. This will depend on how soon the data that your model uses becomes available. If you are predicting election results, how many days / weeks / months / years before the election can you predict the results. \n",
    "\n",
    "When will your model become too obsolete to be useful?"
   ]
  },
  {
   "cell_type": "markdown",
   "id": "df475cb3",
   "metadata": {},
   "source": [
    "Our model is deisgned to predict depression around a year in advance, as the rates are considered on a year-to-year basis. However, this is dependent on when mental health data is released, as at times it is released 1.5-2 years in the future. But, as long as the data is released year by year, then our model can be used for an annual prediction.\n",
    "\n",
    "The main limitation in our model lies in the very nature of mental health. As mental health, and the symptoms that people experience, vary by person, this model cannot be considered a standardized way to predict the liklehood of depression. Each person experiences depression differently and that must be considered when evaluating our model. It will become too obsolete once it starts to be used for very different cases that involve circumstances our predictors cannot measure (such as environment, certain medication, etc.)\n",
    "\n",
    "Another one of our main limitations is the fact that this model can only be applied to developed nations in the OECD. Less-developed and historically impoverished countries have different healthcare systems from the developed world. All of the countries in our model have high GDPs and high qualities of life. As such, there is no gurantee that our model will be as accurate for countries with very different circumstances."
   ]
  },
  {
   "cell_type": "markdown",
   "id": "f6026cb7",
   "metadata": {},
   "source": [
    "## Other sections *(optional)*\n",
    "\n",
    "You are welcome to introduce additional sections or subsections, if required, to address any specific aspects of your project in detail. For example, you may briefly discuss potential future work that the research community could focus on to make further progress in the direction of your project's topic."
   ]
  },
  {
   "cell_type": "markdown",
   "id": "62a185cb",
   "metadata": {},
   "source": [
    "## Conclusions and Recommendations to stakeholder(s)\n",
    "\n",
    "What conclusions do you draw based on your model? If it is inference you may draw conclusions based on the coefficients, statistical significance of predictors / interactions, etc. If it is prediction, you may draw conclusions based on prediction accuracy, or other performance metrics.\n",
    "\n",
    "How do you use those conclusions to come up with meaningful recommendations for stakeholders? The recommendations must be action-items for stakeholders that they can directly implement without any further analysis. Be as precise as possible. The stakeholder(s) are depending on you to come up with practically implementable recommendations, instead of having to think for themselves.\n",
    "\n",
    "If your recommendations are not practically implementable by stakeholders, how will they help them? Is there some additional data / analysis / domain expertise you need to do to make the recommendations implementable? \n",
    "\n",
    "Do the stakeholder(s) need to be aware about some limitations of your model? Is your model only good for one-time use, or is it possible to update your model at a certain frequency (based on recent data) to keep using it in the future? If it can be used in the future, then for how far into the future?"
   ]
  },
  {
   "cell_type": "markdown",
   "id": "e45ccb33",
   "metadata": {},
   "source": [
    "Ultimately, our recommendations to stakeholders follow the thematic issue of creating more robust safety nets and social support for mental health diagnosis and treatment to become more accessible. Policymakers & lobbyists should consult with healthcare professionals to determine which drugs could cause depression and propose stricter regulations. Patients should limit their alcohol consumption, especially if they are already heavy drug users. Insurance companies should have more robust mental health benefits/coverage given the strong likelihood that one mental illness leads to multiple others, drug abuse & anxiety leading to depression in our case.\n",
    "\n",
    "Stakeholders should also be very aware of the fact that this model only applies to developed nations. Policymakers from underdeveloped nations should not use this model, however it may be possible in the future to adapt the model to their countries with a different dataset. Stakeholders should also update the data being used for the model annually in order to obtain the most accurate/recent predictions. "
   ]
  },
  {
   "cell_type": "markdown",
   "id": "9c44497c",
   "metadata": {},
   "source": [
    "## GitHub and individual contribution {-}"
   ]
  },
  {
   "cell_type": "markdown",
   "id": "c98b3f66",
   "metadata": {},
   "source": [
    "Put the **Github link** for the project repository."
   ]
  },
  {
   "cell_type": "markdown",
   "id": "0ca45613",
   "metadata": {},
   "source": [
    "Add details of each team member's contribution in the table below."
   ]
  },
  {
   "cell_type": "markdown",
   "id": "5505da5c",
   "metadata": {},
   "source": [
    "<html>\n",
    "<style>\n",
    "table, td, th {\n",
    "  border: 1px solid black;\n",
    "}\n",
    "\n",
    "table {\n",
    "  border-collapse: collapse;\n",
    "  width: 100%;\n",
    "}\n",
    "\n",
    "th {\n",
    "  text-align: left;\n",
    "}\n",
    "    \n",
    "\n",
    "</style>\n",
    "<body>\n",
    "\n",
    "<h2>Individual contribution</h2>\n",
    "\n",
    "<table style=\"width:100%\">\n",
    "     <colgroup>\n",
    "       <col span=\"1\" style=\"width: 15%;\">\n",
    "       <col span=\"1\" style=\"width: 20%;\">\n",
    "       <col span=\"1\" style=\"width: 50%;\">\n",
    "       <col span=\"1\" style=\"width: 15%;\"> \n",
    "    </colgroup>\n",
    "  <tr>\n",
    "    <th>Team member</th>\n",
    "    <th>Contributed aspects</th>\n",
    "    <th>Details</th>\n",
    "    <th>Number of GitHub commits</th>\n",
    "  </tr>\n",
    "  <tr>\n",
    "    <td>Becca Muro</td>\n",
    "    <td>Data cleaning and EDA</td>\n",
    "    <td>Cleaned data to impute missing values and developed visualizations to identify appropriate variable transformations.</td>\n",
    "    <td>100</td>\n",
    "  </tr>\n",
    "  <tr>\n",
    "    <td>Catherine Hemming</td>\n",
    "    <td>Assumptions, interactions, and Outlier and Influential Points</td>\n",
    "    <td>Checked and addressed modeling assumptions and identified relevant variable interactions.</td>\n",
    "    <td>120</td>\n",
    "  </tr>\n",
    "    <tr>\n",
    "    <td>Marlene Alanis</td>\n",
    "    <td>Model Development and Accuracy</td>\n",
    "    <td>Identified outliers/influential points and analayzed their effect on the model.</td>\n",
    "    <td>130</td>    \n",
    "  </tr>\n",
    "    <tr>\n",
    "    <td>Lalla-Aicha Adouim</td>\n",
    "    <td>Variable selection and addressing overfitting</td>\n",
    "    <td>Performed variable selection on an exhaustive set of predictors to address multicollinearity and overfitting.</td>\n",
    "    <td>150</td>    \n",
    "  </tr>\n",
    "</table>"
   ]
  },
  {
   "cell_type": "markdown",
   "id": "192bbd23",
   "metadata": {},
   "source": [
    "List the **challenges** you faced when collaborating with the team on GitHub. Are you comfortable using GitHub? \n",
    "Do you feel GitHuB made collaboration easier? If not, then why? *(Individual team members can put their opinion separately, if different from the rest of the team)*"
   ]
  },
  {
   "cell_type": "markdown",
   "id": "b077d7b6",
   "metadata": {},
   "source": [
    "#### Becca \n",
    "I personally found it challenging to coordinate the pushing of changes to the document with my team members, even if we all oulled the changes from the main branch sometimes we would ifnd ourselves working on it at the same time and it would create problems in the pulling commits aspect of it. I definitely feel more comfortable using it now, but at its most basic level. As mentioned, I think it actually made collaborating a bit harder simply because of what is required to make changes.\n",
    "\n",
    "#### Catherine\n",
    "The learning curve on github was huge, however by the end I grew to like it a bit more. For a project like this where the tasks can not be split up as evenly as in quarter one it is useful. However, a GooglexGithub collab would be elite. It was hard to pick things up in the lecture, so it was something we just had to struggle with for nearly 1-2 hours when we first met to get a grasp on how to use it. It also in. a way disocurages working as a group together in person, which I see as a potential downside\n",
    "\n",
    "#### Marlene\n",
    "Github was a good idea for this project because it will prepare us for the future of this field and forced us to problem solve and communicate as a team. However, the lecture was hard to put into practice for the project because we were working with code. When working on the project proposal, we worked in person enough that it was no issue."
   ]
  },
  {
   "cell_type": "markdown",
   "id": "2d006845",
   "metadata": {},
   "source": [
    "#### Lalla\n",
    "\n",
    "Using Github at first was very difficult and it took a few YouTube videos and hours spent exploring to fully understand it. Once I became familiar with the site however, it became easier to use and made collaborating on this project simpler. Last project we had to physically email our code round-robin style, while with GitHub, everything was updated automatically. That being said, it was very stressful at first, and I feel as if most of my time on this project was spent understanding GitHub rather than doing more in-depth analysis. At one point, we spent ~3 hours as a group trying to conduct analysis, but kept facing challennges with commits, commits overlapping, things not updating, etc."
   ]
  },
  {
   "cell_type": "markdown",
   "id": "00b1cafe",
   "metadata": {},
   "source": [
    "## References {-}"
   ]
  },
  {
   "cell_type": "markdown",
   "id": "ebdb1aad",
   "metadata": {},
   "source": [
    "List and number all bibliographical references. When referenced in the text, enclose the citation number in square brackets, for example [1].\n",
    "\n",
    "[1] Authors. The frobnicatable foo filter, 2014. Face and Gesture submission ID 324. Supplied as additional material\n",
    "fg324.pdf. 3\n"
   ]
  },
  {
   "cell_type": "markdown",
   "id": "5831751c",
   "metadata": {},
   "source": [
    "## Appendix {-}"
   ]
  },
  {
   "cell_type": "markdown",
   "id": "d13d374d",
   "metadata": {},
   "source": [
    "You may put additional stuff here as Appendix. You may refer to the Appendix in the main report to support your arguments. However, the appendix section is unlikely to be checked while grading, unless the grader deems it necessary."
   ]
  },
  {
   "cell_type": "code",
   "execution_count": null,
   "id": "171e0e52",
   "metadata": {},
   "outputs": [],
   "source": []
  },
  {
   "cell_type": "code",
   "execution_count": null,
   "id": "b3c60966",
   "metadata": {},
   "outputs": [],
   "source": []
  }
 ],
 "metadata": {
  "kernelspec": {
   "display_name": "Python 3 (ipykernel)",
   "language": "python",
   "name": "python3"
  },
  "language_info": {
   "codemirror_mode": {
    "name": "ipython",
    "version": 3
   },
   "file_extension": ".py",
   "mimetype": "text/x-python",
   "name": "python",
   "nbconvert_exporter": "python",
   "pygments_lexer": "ipython3",
   "version": "3.9.12"
  }
 },
 "nbformat": 4,
 "nbformat_minor": 5
}
