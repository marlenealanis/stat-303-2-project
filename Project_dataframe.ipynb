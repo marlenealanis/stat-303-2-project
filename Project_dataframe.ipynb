{
 "cells": [
  {
   "cell_type": "code",
   "execution_count": 4,
   "id": "112049bc",
   "metadata": {},
   "outputs": [
    {
     "name": "stderr",
     "output_type": "stream",
     "text": [
      "/var/folders/qs/k20tf5tx1g95_rd5zfrm_4nw0000gn/T/ipykernel_24377/300513165.py:8: DtypeWarning: Columns (5,6) have mixed types. Specify dtype option on import or set low_memory=False.\n",
      "  health = pd.read_csv('Mental health Depression disorder Data.csv')\n"
     ]
    }
   ],
   "source": [
    "import pandas as pd\n",
    "import numpy as np\n",
    "import statsmodels.formula.api as smf\n",
    "import seaborn as sns\n",
    "import matplotlib.pyplot as plt\n",
    "import statsmodels.api as sm\n",
    "\n",
    "health = pd.read_csv('Mental health Depression disorder Data.csv')"
   ]
  },
  {
   "cell_type": "code",
   "execution_count": null,
   "id": "1e54e12b",
   "metadata": {},
   "outputs": [],
   "source": [
    "health.head()"
   ]
  },
  {
   "cell_type": "code",
   "execution_count": 3,
   "id": "e29c9c26",
   "metadata": {},
   "outputs": [],
   "source": [
    "#print(health['Entity'].unique()) # choose 10 countries to analyze + US "
   ]
  },
  {
   "cell_type": "code",
   "execution_count": 15,
   "id": "c70898d4",
   "metadata": {},
   "outputs": [],
   "source": [
    "# builting the dataframe\n",
    "    # create new df with countries we're interested in studying\n",
    "    # fix the index \n",
    "    # added variable for whether it has universal healthcare or not\n",
    "    \n",
    "developed = health.loc[health['Entity'].isin(['United States','Japan','Argentina','Australia','United Kingdom', 'South Korea','Denmark','Canada','France','Taiwan','Uruguay','Germany','Norway','Austria','Belgium','Netherlands','Finland','Thailand','United Arab Emirates'])]\n",
    "developed.head()\n",
    "developed = developed.reset_index(drop=True)\n",
    "\n",
    "developed = developed.drop('index', axis=1)\n",
    "\n",
    "# have universal care or practically universal care (for example may be small co-pays)\n",
    "developed[\"Universal Care\"] = np.nan\n",
    "\n",
    "developed[\"Universal Care\"] = np.where(developed['Entity'] == 'United States', 0,1) \n",
    "\n",
    "\n"
   ]
  },
  {
   "cell_type": "code",
   "execution_count": 18,
   "id": "c250816a",
   "metadata": {},
   "outputs": [
    {
     "data": {
      "text/plain": [
       "2128"
      ]
     },
     "execution_count": 18,
     "metadata": {},
     "output_type": "execute_result"
    }
   ],
   "source": [
    "map_names = {'Entity': 'country',\n",
    "             'Year' : 'year',\n",
    "             'Schizophrenia (%)':'schizo', \n",
    "             'Bipolar disorder (%)':'bipolar',\n",
    "             'Eating disorders (%)' : 'eating_dis',\n",
    "             'Anxiety disorders (%)' : 'anxiety',\n",
    "             'Drug use disorders (%)':'drug',\n",
    "             'Depression (%)':'depres',\n",
    "             'Alcohol use disorders (%)':'alcohol'}\n",
    "\n",
    "developed.rename(columns=map_names,inplace=True)\n",
    "\n",
    "\n",
    "\n",
    "# just for years 1990 - 2017\n",
    "\n",
    "developed = developed.loc[developed['year'].isin(['1990', '1991', '1992', '1993', '1994', '1995', '1996', '1997',\n",
    "       '1998', '1999', '2000', '2001', '2002', '2003', '2004', '2005',\n",
    "       '2006', '2007', '2008', '2009', '2010', '2011', '2012', '2013',\n",
    "       '2014', '2015', '2016', '2017'])] \n",
    "\n"
   ]
  },
  {
   "cell_type": "code",
   "execution_count": 19,
   "id": "422a2573",
   "metadata": {},
   "outputs": [],
   "source": [
    "# using numpy to split into 2 by 70% for training set and the remaining for the rest\n",
    "developed2 = developed.sample(frac = 1)\n",
    "train,test = np.split(developed2,[int(0.70 * len(developed2))])"
   ]
  },
  {
   "cell_type": "code",
   "execution_count": null,
   "id": "5c1cf506",
   "metadata": {},
   "outputs": [],
   "source": []
  },
  {
   "cell_type": "code",
   "execution_count": null,
   "id": "59ea3b96",
   "metadata": {},
   "outputs": [],
   "source": []
  }
 ],
 "metadata": {
  "kernelspec": {
   "display_name": "Python 3 (ipykernel)",
   "language": "python",
   "name": "python3"
  },
  "language_info": {
   "codemirror_mode": {
    "name": "ipython",
    "version": 3
   },
   "file_extension": ".py",
   "mimetype": "text/x-python",
   "name": "python",
   "nbconvert_exporter": "python",
   "pygments_lexer": "ipython3",
   "version": "3.9.12"
  }
 },
 "nbformat": 4,
 "nbformat_minor": 5
}
