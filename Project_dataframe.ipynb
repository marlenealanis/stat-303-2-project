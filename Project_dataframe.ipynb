{
 "cells": [
  {
   "cell_type": "code",
   "execution_count": 4,
   "id": "112049bc",
   "metadata": {},
   "outputs": [
    {
     "name": "stderr",
     "output_type": "stream",
     "text": [
      "/var/folders/qs/k20tf5tx1g95_rd5zfrm_4nw0000gn/T/ipykernel_24377/300513165.py:8: DtypeWarning: Columns (5,6) have mixed types. Specify dtype option on import or set low_memory=False.\n",
      "  health = pd.read_csv('Mental health Depression disorder Data.csv')\n"
     ]
    }
   ],
   "source": [
    "import pandas as pd\n",
    "import numpy as np\n",
    "import statsmodels.formula.api as smf\n",
    "import seaborn as sns\n",
    "import matplotlib.pyplot as plt\n",
    "import statsmodels.api as sm\n",
    "\n",
    "health = pd.read_csv('Mental health Depression disorder Data.csv')"
   ]
  },
  {
   "cell_type": "code",
   "execution_count": null,
   "id": "1e54e12b",
   "metadata": {},
   "outputs": [],
   "source": [
    "health.head()"
   ]
  },
  {
   "cell_type": "code",
   "execution_count": 3,
   "id": "e29c9c26",
   "metadata": {},
   "outputs": [],
   "source": [
    "#print(health['Entity'].unique()) # choose 10 countries to analyze + US "
   ]
  },
  {
   "cell_type": "code",
   "execution_count": 6,
   "id": "c70898d4",
   "metadata": {},
   "outputs": [
    {
     "data": {
      "text/plain": [
       "7936"
      ]
     },
     "execution_count": 6,
     "metadata": {},
     "output_type": "execute_result"
    }
   ],
   "source": [
    "# builting the dataframe\n",
    "    # create new df with countries we're interested in studying\n",
    "    # fix the index \n",
    "    # added variable for whether it has universal healthcare or not\n",
    "    \n",
    "developed = health.loc[health['Entity'].isin(['United States','Japan','Argentina','Australia','United Kingdom', 'South Korea','Denmark','Canada','France','Taiwan','Uruguay','Germany','Norway','Austria','Belgium','Netherlands'])]\n",
    "developed.head()\n",
    "developed = developed.reset_index(drop=True)\n",
    "\n",
    "developed = developed.drop('index', axis=1)\n",
    "\n",
    "# have universal care or practically universal care (for example may be small co-pays)\n",
    "developed[\"Universal Care\"] = np.nan\n",
    "\n",
    "developed[\"Universal Care\"] = np.where(developed['Entity'] == 'United States', 0,1) \n",
    "\n",
    "\n"
   ]
  },
  {
   "cell_type": "code",
   "execution_count": 12,
   "id": "c250816a",
   "metadata": {},
   "outputs": [
    {
     "name": "stderr",
     "output_type": "stream",
     "text": [
      "/var/folders/qs/k20tf5tx1g95_rd5zfrm_4nw0000gn/T/ipykernel_24377/3538334660.py:11: SettingWithCopyWarning: \n",
      "A value is trying to be set on a copy of a slice from a DataFrame\n",
      "\n",
      "See the caveats in the documentation: https://pandas.pydata.org/pandas-docs/stable/user_guide/indexing.html#returning-a-view-versus-a-copy\n",
      "  developed.rename(columns=map_names,inplace=True)\n"
     ]
    },
    {
     "data": {
      "text/plain": [
       "array(['1990', '1991', '1992', '1993', '1994', '1995', '1996', '1997',\n",
       "       '1998', '1999', '2000', '2001', '2002', '2003', '2004', '2005',\n",
       "       '2006', '2007', '2008', '2009', '2010', '2011', '2012', '2013',\n",
       "       '2014', '2015', '2016', '2017'], dtype=object)"
      ]
     },
     "execution_count": 12,
     "metadata": {},
     "output_type": "execute_result"
    }
   ],
   "source": [
    "map_names = {'Entity': 'country',\n",
    "             'Year' : 'year',\n",
    "             'Schizophrenia (%)':'schizo', \n",
    "             'Bipolar disorder (%)':'bipolar',\n",
    "             'Eating disorders (%)' : 'eating_dis',\n",
    "             'Anxiety disorders (%)' : 'anxiety',\n",
    "             'Drug use disorders (%)':'drug',\n",
    "             'Depression (%)':'depres',\n",
    "             'Alcohol use disorders (%)':'alcohol'}\n",
    "\n",
    "developed.rename(columns=map_names,inplace=True)\n",
    "\n",
    "\n",
    "\n",
    "# just for years 1990 - 2017\n",
    "\n",
    "developed = developed.loc[developed['year'].isin(['1990', '1991', '1992', '1993', '1994', '1995', '1996', '1997',\n",
    "       '1998', '1999', '2000', '2001', '2002', '2003', '2004', '2005',\n",
    "       '2006', '2007', '2008', '2009', '2010', '2011', '2012', '2013',\n",
    "       '2014', '2015', '2016', '2017'])] \n",
    "\n"
   ]
  },
  {
   "cell_type": "code",
   "execution_count": 1,
   "id": "422a2573",
   "metadata": {},
   "outputs": [
    {
     "ename": "NameError",
     "evalue": "name 'developed' is not defined",
     "output_type": "error",
     "traceback": [
      "\u001b[0;31m---------------------------------------------------------------------------\u001b[0m",
      "\u001b[0;31mNameError\u001b[0m                                 Traceback (most recent call last)",
      "Input \u001b[0;32mIn [1]\u001b[0m, in \u001b[0;36m<cell line: 2>\u001b[0;34m()\u001b[0m\n\u001b[1;32m      1\u001b[0m \u001b[38;5;66;03m# using numpy to split into 2 by 70% for training set and the remaining for the rest\u001b[39;00m\n\u001b[0;32m----> 2\u001b[0m developed2 \u001b[38;5;241m=\u001b[39m \u001b[43mdeveloped\u001b[49m\u001b[38;5;241m.\u001b[39msample(frac \u001b[38;5;241m=\u001b[39m \u001b[38;5;241m1\u001b[39m)\n\u001b[1;32m      3\u001b[0m train,test \u001b[38;5;241m=\u001b[39m np\u001b[38;5;241m.\u001b[39msplit(developed2,[\u001b[38;5;28mint\u001b[39m(\u001b[38;5;241m0.70\u001b[39m \u001b[38;5;241m*\u001b[39m \u001b[38;5;28mlen\u001b[39m(df1))])\n",
      "\u001b[0;31mNameError\u001b[0m: name 'developed' is not defined"
     ]
    }
   ],
   "source": [
    "# using numpy to split into 2 by 70% for training set and the remaining for the rest\n",
    "developed2 = developed.sample(frac = 1)\n",
    "train,test = np.split(developed2,[int(0.70 * len(df1))])"
   ]
  },
  {
   "cell_type": "code",
   "execution_count": null,
   "id": "5c1cf506",
   "metadata": {},
   "outputs": [],
   "source": []
  }
 ],
 "metadata": {
  "kernelspec": {
   "display_name": "Python 3 (ipykernel)",
   "language": "python",
   "name": "python3"
  },
  "language_info": {
   "codemirror_mode": {
    "name": "ipython",
    "version": 3
   },
   "file_extension": ".py",
   "mimetype": "text/x-python",
   "name": "python",
   "nbconvert_exporter": "python",
   "pygments_lexer": "ipython3",
   "version": "3.9.12"
  }
 },
 "nbformat": 4,
 "nbformat_minor": 5
}
