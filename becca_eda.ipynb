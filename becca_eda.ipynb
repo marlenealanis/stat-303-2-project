{
 "cells": [
  {
   "cell_type": "code",
   "execution_count": 1,
   "id": "6ec7fd7c",
   "metadata": {},
   "outputs": [
    {
     "name": "stderr",
     "output_type": "stream",
     "text": [
      "C:\\Users\\bekym\\AppData\\Local\\Temp\\ipykernel_17096\\300513165.py:8: DtypeWarning: Columns (5,6) have mixed types. Specify dtype option on import or set low_memory=False.\n",
      "  health = pd.read_csv('Mental health Depression disorder Data.csv')\n"
     ]
    }
   ],
   "source": [
    "import pandas as pd\n",
    "import numpy as np\n",
    "import statsmodels.formula.api as smf\n",
    "import seaborn as sns\n",
    "import matplotlib.pyplot as plt\n",
    "import statsmodels.api as sm\n",
    "\n",
    "health = pd.read_csv('Mental health Depression disorder Data.csv')"
   ]
  },
  {
   "cell_type": "code",
   "execution_count": 11,
   "id": "359a3006",
   "metadata": {},
   "outputs": [
    {
     "data": {
      "text/plain": [
       "array(['Andean Latin America', 'Australasia', 'Caribbean', 'Central Asia',\n",
       "       'Central Europe',\n",
       "       'Central Europe, Eastern Europe, and Central Asia',\n",
       "       'Central Latin America', 'Central Sub-Saharan Africa', 'East Asia',\n",
       "       'Eastern Europe', 'Eastern Sub-Saharan Africa', 'England',\n",
       "       'High SDI', 'High-income', 'High-income Asia Pacific',\n",
       "       'High-middle SDI', 'Latin America and Caribbean', 'Low SDI',\n",
       "       'Low-middle SDI', 'Middle SDI', 'North Africa and Middle East',\n",
       "       'North America', 'Northern Ireland', 'Oceania', 'Scotland',\n",
       "       'South Asia', 'Southeast Asia',\n",
       "       'Southeast Asia, East Asia, and Oceania', 'Southern Latin America',\n",
       "       'Southern Sub-Saharan Africa', 'Sub-Saharan Africa',\n",
       "       'Tropical Latin America', 'Wales', 'Western Europe',\n",
       "       'Western Sub-Saharan Africa', 'Africa', 'Asia', 'Europe',\n",
       "       'Latin America', 'Saint Barthlemy'], dtype=object)"
      ]
     },
     "execution_count": 11,
     "metadata": {},
     "output_type": "execute_result"
    }
   ],
   "source": [
    "health['Entity'].loc[health['Code'].isnull()].unique()"
   ]
  },
  {
   "cell_type": "code",
   "execution_count": 12,
   "id": "2a9a8a8f",
   "metadata": {},
   "outputs": [],
   "source": [
    "health.dropna(axis=0, inplace = True)"
   ]
  },
  {
   "cell_type": "code",
   "execution_count": 13,
   "id": "7bd0f731",
   "metadata": {},
   "outputs": [
    {
     "data": {
      "text/html": [
       "<div>\n",
       "<style scoped>\n",
       "    .dataframe tbody tr th:only-of-type {\n",
       "        vertical-align: middle;\n",
       "    }\n",
       "\n",
       "    .dataframe tbody tr th {\n",
       "        vertical-align: top;\n",
       "    }\n",
       "\n",
       "    .dataframe thead th {\n",
       "        text-align: right;\n",
       "    }\n",
       "</style>\n",
       "<table border=\"1\" class=\"dataframe\">\n",
       "  <thead>\n",
       "    <tr style=\"text-align: right;\">\n",
       "      <th></th>\n",
       "      <th>index</th>\n",
       "      <th>Entity</th>\n",
       "      <th>Code</th>\n",
       "      <th>Year</th>\n",
       "      <th>Schizophrenia (%)</th>\n",
       "      <th>Bipolar disorder (%)</th>\n",
       "      <th>Eating disorders (%)</th>\n",
       "      <th>Anxiety disorders (%)</th>\n",
       "      <th>Drug use disorders (%)</th>\n",
       "      <th>Depression (%)</th>\n",
       "      <th>Alcohol use disorders (%)</th>\n",
       "    </tr>\n",
       "  </thead>\n",
       "  <tbody>\n",
       "    <tr>\n",
       "      <th>0</th>\n",
       "      <td>0</td>\n",
       "      <td>Afghanistan</td>\n",
       "      <td>AFG</td>\n",
       "      <td>1990</td>\n",
       "      <td>0.16056</td>\n",
       "      <td>0.697779</td>\n",
       "      <td>0.101855</td>\n",
       "      <td>4.828830</td>\n",
       "      <td>1.677082</td>\n",
       "      <td>4.071831</td>\n",
       "      <td>0.672404</td>\n",
       "    </tr>\n",
       "    <tr>\n",
       "      <th>1</th>\n",
       "      <td>1</td>\n",
       "      <td>Afghanistan</td>\n",
       "      <td>AFG</td>\n",
       "      <td>1991</td>\n",
       "      <td>0.160312</td>\n",
       "      <td>0.697961</td>\n",
       "      <td>0.099313</td>\n",
       "      <td>4.829740</td>\n",
       "      <td>1.684746</td>\n",
       "      <td>4.079531</td>\n",
       "      <td>0.671768</td>\n",
       "    </tr>\n",
       "    <tr>\n",
       "      <th>2</th>\n",
       "      <td>2</td>\n",
       "      <td>Afghanistan</td>\n",
       "      <td>AFG</td>\n",
       "      <td>1992</td>\n",
       "      <td>0.160135</td>\n",
       "      <td>0.698107</td>\n",
       "      <td>0.096692</td>\n",
       "      <td>4.831108</td>\n",
       "      <td>1.694334</td>\n",
       "      <td>4.088358</td>\n",
       "      <td>0.670644</td>\n",
       "    </tr>\n",
       "    <tr>\n",
       "      <th>3</th>\n",
       "      <td>3</td>\n",
       "      <td>Afghanistan</td>\n",
       "      <td>AFG</td>\n",
       "      <td>1993</td>\n",
       "      <td>0.160037</td>\n",
       "      <td>0.698257</td>\n",
       "      <td>0.094336</td>\n",
       "      <td>4.830864</td>\n",
       "      <td>1.705320</td>\n",
       "      <td>4.096190</td>\n",
       "      <td>0.669738</td>\n",
       "    </tr>\n",
       "    <tr>\n",
       "      <th>4</th>\n",
       "      <td>4</td>\n",
       "      <td>Afghanistan</td>\n",
       "      <td>AFG</td>\n",
       "      <td>1994</td>\n",
       "      <td>0.160022</td>\n",
       "      <td>0.698469</td>\n",
       "      <td>0.092439</td>\n",
       "      <td>4.829423</td>\n",
       "      <td>1.716069</td>\n",
       "      <td>4.099582</td>\n",
       "      <td>0.669260</td>\n",
       "    </tr>\n",
       "  </tbody>\n",
       "</table>\n",
       "</div>"
      ],
      "text/plain": [
       "   index       Entity Code  Year Schizophrenia (%) Bipolar disorder (%)  \\\n",
       "0      0  Afghanistan  AFG  1990           0.16056             0.697779   \n",
       "1      1  Afghanistan  AFG  1991          0.160312             0.697961   \n",
       "2      2  Afghanistan  AFG  1992          0.160135             0.698107   \n",
       "3      3  Afghanistan  AFG  1993          0.160037             0.698257   \n",
       "4      4  Afghanistan  AFG  1994          0.160022             0.698469   \n",
       "\n",
       "  Eating disorders (%)  Anxiety disorders (%)  Drug use disorders (%)  \\\n",
       "0             0.101855               4.828830                1.677082   \n",
       "1             0.099313               4.829740                1.684746   \n",
       "2             0.096692               4.831108                1.694334   \n",
       "3             0.094336               4.830864                1.705320   \n",
       "4             0.092439               4.829423                1.716069   \n",
       "\n",
       "   Depression (%)  Alcohol use disorders (%)  \n",
       "0        4.071831                   0.672404  \n",
       "1        4.079531                   0.671768  \n",
       "2        4.088358                   0.670644  \n",
       "3        4.096190                   0.669738  \n",
       "4        4.099582                   0.669260  "
      ]
     },
     "execution_count": 13,
     "metadata": {},
     "output_type": "execute_result"
    }
   ],
   "source": [
    "health.head()"
   ]
  },
  {
   "cell_type": "code",
   "execution_count": 3,
   "id": "cdc3bee5",
   "metadata": {
    "scrolled": false
   },
   "outputs": [
    {
     "data": {
      "text/html": [
       "<div>\n",
       "<style scoped>\n",
       "    .dataframe tbody tr th:only-of-type {\n",
       "        vertical-align: middle;\n",
       "    }\n",
       "\n",
       "    .dataframe tbody tr th {\n",
       "        vertical-align: top;\n",
       "    }\n",
       "\n",
       "    .dataframe thead th {\n",
       "        text-align: right;\n",
       "    }\n",
       "</style>\n",
       "<table border=\"1\" class=\"dataframe\">\n",
       "  <thead>\n",
       "    <tr style=\"text-align: right;\">\n",
       "      <th></th>\n",
       "      <th>Entity</th>\n",
       "      <th>Code</th>\n",
       "      <th>Year</th>\n",
       "      <th>Schizophrenia (%)</th>\n",
       "      <th>Bipolar disorder (%)</th>\n",
       "      <th>Eating disorders (%)</th>\n",
       "      <th>Anxiety disorders (%)</th>\n",
       "      <th>Drug use disorders (%)</th>\n",
       "      <th>Depression (%)</th>\n",
       "      <th>Alcohol use disorders (%)</th>\n",
       "      <th>Universal Care</th>\n",
       "    </tr>\n",
       "  </thead>\n",
       "  <tbody>\n",
       "    <tr>\n",
       "      <th>0</th>\n",
       "      <td>Argentina</td>\n",
       "      <td>ARG</td>\n",
       "      <td>1990</td>\n",
       "      <td>0.194422</td>\n",
       "      <td>0.755674</td>\n",
       "      <td>0.323686</td>\n",
       "      <td>6.165921</td>\n",
       "      <td>0.919424</td>\n",
       "      <td>3.569180</td>\n",
       "      <td>1.918939</td>\n",
       "      <td>NaN</td>\n",
       "    </tr>\n",
       "    <tr>\n",
       "      <th>1</th>\n",
       "      <td>Argentina</td>\n",
       "      <td>ARG</td>\n",
       "      <td>1991</td>\n",
       "      <td>0.194184</td>\n",
       "      <td>0.756386</td>\n",
       "      <td>0.326904</td>\n",
       "      <td>6.174471</td>\n",
       "      <td>0.920323</td>\n",
       "      <td>3.579068</td>\n",
       "      <td>2.022040</td>\n",
       "      <td>NaN</td>\n",
       "    </tr>\n",
       "    <tr>\n",
       "      <th>2</th>\n",
       "      <td>Argentina</td>\n",
       "      <td>ARG</td>\n",
       "      <td>1992</td>\n",
       "      <td>0.194034</td>\n",
       "      <td>0.757139</td>\n",
       "      <td>0.330504</td>\n",
       "      <td>6.182707</td>\n",
       "      <td>0.921296</td>\n",
       "      <td>3.588855</td>\n",
       "      <td>2.116047</td>\n",
       "      <td>NaN</td>\n",
       "    </tr>\n",
       "    <tr>\n",
       "      <th>3</th>\n",
       "      <td>Argentina</td>\n",
       "      <td>ARG</td>\n",
       "      <td>1993</td>\n",
       "      <td>0.193973</td>\n",
       "      <td>0.757909</td>\n",
       "      <td>0.334286</td>\n",
       "      <td>6.190356</td>\n",
       "      <td>0.921620</td>\n",
       "      <td>3.597366</td>\n",
       "      <td>2.193307</td>\n",
       "      <td>NaN</td>\n",
       "    </tr>\n",
       "    <tr>\n",
       "      <th>4</th>\n",
       "      <td>Argentina</td>\n",
       "      <td>ARG</td>\n",
       "      <td>1994</td>\n",
       "      <td>0.194004</td>\n",
       "      <td>0.758686</td>\n",
       "      <td>0.338418</td>\n",
       "      <td>6.197271</td>\n",
       "      <td>0.921581</td>\n",
       "      <td>3.606913</td>\n",
       "      <td>2.246206</td>\n",
       "      <td>NaN</td>\n",
       "    </tr>\n",
       "  </tbody>\n",
       "</table>\n",
       "</div>"
      ],
      "text/plain": [
       "      Entity Code  Year Schizophrenia (%) Bipolar disorder (%)  \\\n",
       "0  Argentina  ARG  1990          0.194422             0.755674   \n",
       "1  Argentina  ARG  1991          0.194184             0.756386   \n",
       "2  Argentina  ARG  1992          0.194034             0.757139   \n",
       "3  Argentina  ARG  1993          0.193973             0.757909   \n",
       "4  Argentina  ARG  1994          0.194004             0.758686   \n",
       "\n",
       "  Eating disorders (%)  Anxiety disorders (%)  Drug use disorders (%)  \\\n",
       "0             0.323686               6.165921                0.919424   \n",
       "1             0.326904               6.174471                0.920323   \n",
       "2             0.330504               6.182707                0.921296   \n",
       "3             0.334286               6.190356                0.921620   \n",
       "4             0.338418               6.197271                0.921581   \n",
       "\n",
       "   Depression (%)  Alcohol use disorders (%)  Universal Care  \n",
       "0        3.569180                   1.918939             NaN  \n",
       "1        3.579068                   2.022040             NaN  \n",
       "2        3.588855                   2.116047             NaN  \n",
       "3        3.597366                   2.193307             NaN  \n",
       "4        3.606913                   2.246206             NaN  "
      ]
     },
     "execution_count": 3,
     "metadata": {},
     "output_type": "execute_result"
    }
   ],
   "source": [
    "developed = health.loc[health['Entity'].isin(['United States','Japan','Argentina','Australia','United Kingdom', 'South Korea','Denmark','Canada','France','Taiwan','Uruguay','Germany'])]\n",
    "\n",
    "developed = developed.reset_index(drop=True)\n",
    "\n",
    "developed = developed.drop('index', axis=1)\n",
    "\n",
    "developed.head()\n",
    "\n",
    "developed[\"Universal Care\"] = np.nan\n",
    "\n",
    "developed.head()\n"
   ]
  },
  {
   "cell_type": "code",
   "execution_count": 98,
   "id": "fdc9aa57",
   "metadata": {},
   "outputs": [],
   "source": [
    "map_names = {'Entity': 'country',\n",
    "             'Year' : 'year',\n",
    "             'Schizophrenia (%)':'schizo', \n",
    "             'Bipolar disorder (%)':'bipolar',\n",
    "             'Eating disorders (%)' : 'eating_dis',\n",
    "             'Anxiety disorders (%)' : 'anxiety',\n",
    "             'Drug use disorders (%)':'drug',\n",
    "             'Depression (%)':'depres',\n",
    "             'Alcohol use disorders (%)':'alcohol'}\n",
    "\n",
    "developed.rename(columns=map_names,inplace=True)"
   ]
  },
  {
   "cell_type": "code",
   "execution_count": 102,
   "id": "f82a1dce",
   "metadata": {},
   "outputs": [
    {
     "data": {
      "text/html": [
       "<div>\n",
       "<style scoped>\n",
       "    .dataframe tbody tr th:only-of-type {\n",
       "        vertical-align: middle;\n",
       "    }\n",
       "\n",
       "    .dataframe tbody tr th {\n",
       "        vertical-align: top;\n",
       "    }\n",
       "\n",
       "    .dataframe thead th {\n",
       "        text-align: right;\n",
       "    }\n",
       "</style>\n",
       "<table border=\"1\" class=\"dataframe\">\n",
       "  <thead>\n",
       "    <tr style=\"text-align: right;\">\n",
       "      <th></th>\n",
       "      <th>country</th>\n",
       "      <th>Code</th>\n",
       "      <th>year</th>\n",
       "      <th>schizo</th>\n",
       "      <th>bipolar</th>\n",
       "      <th>eating_dis</th>\n",
       "      <th>anxiety</th>\n",
       "      <th>drug</th>\n",
       "      <th>depres</th>\n",
       "      <th>alcohol</th>\n",
       "      <th>Universal Care</th>\n",
       "    </tr>\n",
       "  </thead>\n",
       "  <tbody>\n",
       "    <tr>\n",
       "      <th>0</th>\n",
       "      <td>Argentina</td>\n",
       "      <td>ARG</td>\n",
       "      <td>1990</td>\n",
       "      <td>0.194422</td>\n",
       "      <td>0.755674</td>\n",
       "      <td>0.323686</td>\n",
       "      <td>6.165921</td>\n",
       "      <td>0.919424</td>\n",
       "      <td>3.569180</td>\n",
       "      <td>1.918939</td>\n",
       "      <td>NaN</td>\n",
       "    </tr>\n",
       "    <tr>\n",
       "      <th>1</th>\n",
       "      <td>Argentina</td>\n",
       "      <td>ARG</td>\n",
       "      <td>1991</td>\n",
       "      <td>0.194184</td>\n",
       "      <td>0.756386</td>\n",
       "      <td>0.326904</td>\n",
       "      <td>6.174471</td>\n",
       "      <td>0.920323</td>\n",
       "      <td>3.579068</td>\n",
       "      <td>2.022040</td>\n",
       "      <td>NaN</td>\n",
       "    </tr>\n",
       "    <tr>\n",
       "      <th>2</th>\n",
       "      <td>Argentina</td>\n",
       "      <td>ARG</td>\n",
       "      <td>1992</td>\n",
       "      <td>0.194034</td>\n",
       "      <td>0.757139</td>\n",
       "      <td>0.330504</td>\n",
       "      <td>6.182707</td>\n",
       "      <td>0.921296</td>\n",
       "      <td>3.588855</td>\n",
       "      <td>2.116047</td>\n",
       "      <td>NaN</td>\n",
       "    </tr>\n",
       "    <tr>\n",
       "      <th>3</th>\n",
       "      <td>Argentina</td>\n",
       "      <td>ARG</td>\n",
       "      <td>1993</td>\n",
       "      <td>0.193973</td>\n",
       "      <td>0.757909</td>\n",
       "      <td>0.334286</td>\n",
       "      <td>6.190356</td>\n",
       "      <td>0.921620</td>\n",
       "      <td>3.597366</td>\n",
       "      <td>2.193307</td>\n",
       "      <td>NaN</td>\n",
       "    </tr>\n",
       "    <tr>\n",
       "      <th>4</th>\n",
       "      <td>Argentina</td>\n",
       "      <td>ARG</td>\n",
       "      <td>1994</td>\n",
       "      <td>0.194004</td>\n",
       "      <td>0.758686</td>\n",
       "      <td>0.338418</td>\n",
       "      <td>6.197271</td>\n",
       "      <td>0.921581</td>\n",
       "      <td>3.606913</td>\n",
       "      <td>2.246206</td>\n",
       "      <td>NaN</td>\n",
       "    </tr>\n",
       "    <tr>\n",
       "      <th>...</th>\n",
       "      <td>...</td>\n",
       "      <td>...</td>\n",
       "      <td>...</td>\n",
       "      <td>...</td>\n",
       "      <td>...</td>\n",
       "      <td>...</td>\n",
       "      <td>...</td>\n",
       "      <td>...</td>\n",
       "      <td>...</td>\n",
       "      <td>...</td>\n",
       "      <td>...</td>\n",
       "    </tr>\n",
       "    <tr>\n",
       "      <th>5947</th>\n",
       "      <td>Uruguay</td>\n",
       "      <td>URY</td>\n",
       "      <td>2013</td>\n",
       "      <td>121013.371501</td>\n",
       "      <td>NaN</td>\n",
       "      <td>NaN</td>\n",
       "      <td>NaN</td>\n",
       "      <td>NaN</td>\n",
       "      <td>NaN</td>\n",
       "      <td>NaN</td>\n",
       "      <td>NaN</td>\n",
       "    </tr>\n",
       "    <tr>\n",
       "      <th>5948</th>\n",
       "      <td>Uruguay</td>\n",
       "      <td>URY</td>\n",
       "      <td>2014</td>\n",
       "      <td>121976.987422</td>\n",
       "      <td>NaN</td>\n",
       "      <td>NaN</td>\n",
       "      <td>NaN</td>\n",
       "      <td>NaN</td>\n",
       "      <td>NaN</td>\n",
       "      <td>NaN</td>\n",
       "      <td>NaN</td>\n",
       "    </tr>\n",
       "    <tr>\n",
       "      <th>5949</th>\n",
       "      <td>Uruguay</td>\n",
       "      <td>URY</td>\n",
       "      <td>2015</td>\n",
       "      <td>122948.157402</td>\n",
       "      <td>NaN</td>\n",
       "      <td>NaN</td>\n",
       "      <td>NaN</td>\n",
       "      <td>NaN</td>\n",
       "      <td>NaN</td>\n",
       "      <td>NaN</td>\n",
       "      <td>NaN</td>\n",
       "    </tr>\n",
       "    <tr>\n",
       "      <th>5950</th>\n",
       "      <td>Uruguay</td>\n",
       "      <td>URY</td>\n",
       "      <td>2016</td>\n",
       "      <td>123877.363598</td>\n",
       "      <td>NaN</td>\n",
       "      <td>NaN</td>\n",
       "      <td>NaN</td>\n",
       "      <td>NaN</td>\n",
       "      <td>NaN</td>\n",
       "      <td>NaN</td>\n",
       "      <td>NaN</td>\n",
       "    </tr>\n",
       "    <tr>\n",
       "      <th>5951</th>\n",
       "      <td>Uruguay</td>\n",
       "      <td>URY</td>\n",
       "      <td>2017</td>\n",
       "      <td>124845.72393</td>\n",
       "      <td>NaN</td>\n",
       "      <td>NaN</td>\n",
       "      <td>NaN</td>\n",
       "      <td>NaN</td>\n",
       "      <td>NaN</td>\n",
       "      <td>NaN</td>\n",
       "      <td>NaN</td>\n",
       "    </tr>\n",
       "  </tbody>\n",
       "</table>\n",
       "<p>5952 rows × 11 columns</p>\n",
       "</div>"
      ],
      "text/plain": [
       "        country Code  year         schizo   bipolar eating_dis   anxiety  \\\n",
       "0     Argentina  ARG  1990       0.194422  0.755674   0.323686  6.165921   \n",
       "1     Argentina  ARG  1991       0.194184  0.756386   0.326904  6.174471   \n",
       "2     Argentina  ARG  1992       0.194034  0.757139   0.330504  6.182707   \n",
       "3     Argentina  ARG  1993       0.193973  0.757909   0.334286  6.190356   \n",
       "4     Argentina  ARG  1994       0.194004  0.758686   0.338418  6.197271   \n",
       "...         ...  ...   ...            ...       ...        ...       ...   \n",
       "5947    Uruguay  URY  2013  121013.371501       NaN        NaN       NaN   \n",
       "5948    Uruguay  URY  2014  121976.987422       NaN        NaN       NaN   \n",
       "5949    Uruguay  URY  2015  122948.157402       NaN        NaN       NaN   \n",
       "5950    Uruguay  URY  2016  123877.363598       NaN        NaN       NaN   \n",
       "5951    Uruguay  URY  2017   124845.72393       NaN        NaN       NaN   \n",
       "\n",
       "          drug    depres   alcohol  Universal Care  \n",
       "0     0.919424  3.569180  1.918939             NaN  \n",
       "1     0.920323  3.579068  2.022040             NaN  \n",
       "2     0.921296  3.588855  2.116047             NaN  \n",
       "3     0.921620  3.597366  2.193307             NaN  \n",
       "4     0.921581  3.606913  2.246206             NaN  \n",
       "...        ...       ...       ...             ...  \n",
       "5947       NaN       NaN       NaN             NaN  \n",
       "5948       NaN       NaN       NaN             NaN  \n",
       "5949       NaN       NaN       NaN             NaN  \n",
       "5950       NaN       NaN       NaN             NaN  \n",
       "5951       NaN       NaN       NaN             NaN  \n",
       "\n",
       "[5952 rows x 11 columns]"
      ]
     },
     "execution_count": 102,
     "metadata": {},
     "output_type": "execute_result"
    }
   ],
   "source": [
    "developed"
   ]
  },
  {
   "cell_type": "code",
   "execution_count": 100,
   "id": "326a91ca",
   "metadata": {},
   "outputs": [
    {
     "data": {
      "text/html": [
       "<div>\n",
       "<style scoped>\n",
       "    .dataframe tbody tr th:only-of-type {\n",
       "        vertical-align: middle;\n",
       "    }\n",
       "\n",
       "    .dataframe tbody tr th {\n",
       "        vertical-align: top;\n",
       "    }\n",
       "\n",
       "    .dataframe thead th {\n",
       "        text-align: right;\n",
       "    }\n",
       "</style>\n",
       "<table border=\"1\" class=\"dataframe\">\n",
       "  <thead>\n",
       "    <tr style=\"text-align: right;\">\n",
       "      <th></th>\n",
       "      <th>country</th>\n",
       "      <th>Code</th>\n",
       "      <th>year</th>\n",
       "      <th>schizo</th>\n",
       "      <th>bipolar</th>\n",
       "      <th>eating_dis</th>\n",
       "      <th>anxiety</th>\n",
       "      <th>drug</th>\n",
       "      <th>depres</th>\n",
       "      <th>alcohol</th>\n",
       "      <th>Universal Care</th>\n",
       "    </tr>\n",
       "  </thead>\n",
       "  <tbody>\n",
       "  </tbody>\n",
       "</table>\n",
       "</div>"
      ],
      "text/plain": [
       "Empty DataFrame\n",
       "Columns: [country, Code, year, schizo, bipolar, eating_dis, anxiety, drug, depres, alcohol, Universal Care]\n",
       "Index: []"
      ]
     },
     "execution_count": 100,
     "metadata": {},
     "output_type": "execute_result"
    }
   ],
   "source": [
    "developed_clean = developed.dropna(axis='rows')\n",
    "developed_clean"
   ]
  },
  {
   "cell_type": "code",
   "execution_count": 106,
   "id": "f5871183",
   "metadata": {},
   "outputs": [
    {
     "data": {
      "text/html": [
       "<div>\n",
       "<style scoped>\n",
       "    .dataframe tbody tr th:only-of-type {\n",
       "        vertical-align: middle;\n",
       "    }\n",
       "\n",
       "    .dataframe tbody tr th {\n",
       "        vertical-align: top;\n",
       "    }\n",
       "\n",
       "    .dataframe thead th {\n",
       "        text-align: right;\n",
       "    }\n",
       "</style>\n",
       "<table border=\"1\" class=\"dataframe\">\n",
       "  <thead>\n",
       "    <tr style=\"text-align: right;\">\n",
       "      <th></th>\n",
       "      <th>country</th>\n",
       "      <th>anxiety</th>\n",
       "      <th>year</th>\n",
       "    </tr>\n",
       "  </thead>\n",
       "  <tbody>\n",
       "    <tr>\n",
       "      <th>0</th>\n",
       "      <td>Argentina</td>\n",
       "      <td>6.165921</td>\n",
       "      <td>1990</td>\n",
       "    </tr>\n",
       "    <tr>\n",
       "      <th>1</th>\n",
       "      <td>Argentina</td>\n",
       "      <td>6.174471</td>\n",
       "      <td>1991</td>\n",
       "    </tr>\n",
       "    <tr>\n",
       "      <th>2</th>\n",
       "      <td>Argentina</td>\n",
       "      <td>6.182707</td>\n",
       "      <td>1992</td>\n",
       "    </tr>\n",
       "    <tr>\n",
       "      <th>3</th>\n",
       "      <td>Argentina</td>\n",
       "      <td>6.190356</td>\n",
       "      <td>1993</td>\n",
       "    </tr>\n",
       "    <tr>\n",
       "      <th>4</th>\n",
       "      <td>Argentina</td>\n",
       "      <td>6.197271</td>\n",
       "      <td>1994</td>\n",
       "    </tr>\n",
       "    <tr>\n",
       "      <th>...</th>\n",
       "      <td>...</td>\n",
       "      <td>...</td>\n",
       "      <td>...</td>\n",
       "    </tr>\n",
       "    <tr>\n",
       "      <th>5947</th>\n",
       "      <td>Uruguay</td>\n",
       "      <td>NaN</td>\n",
       "      <td>2013</td>\n",
       "    </tr>\n",
       "    <tr>\n",
       "      <th>5948</th>\n",
       "      <td>Uruguay</td>\n",
       "      <td>NaN</td>\n",
       "      <td>2014</td>\n",
       "    </tr>\n",
       "    <tr>\n",
       "      <th>5949</th>\n",
       "      <td>Uruguay</td>\n",
       "      <td>NaN</td>\n",
       "      <td>2015</td>\n",
       "    </tr>\n",
       "    <tr>\n",
       "      <th>5950</th>\n",
       "      <td>Uruguay</td>\n",
       "      <td>NaN</td>\n",
       "      <td>2016</td>\n",
       "    </tr>\n",
       "    <tr>\n",
       "      <th>5951</th>\n",
       "      <td>Uruguay</td>\n",
       "      <td>NaN</td>\n",
       "      <td>2017</td>\n",
       "    </tr>\n",
       "  </tbody>\n",
       "</table>\n",
       "<p>5952 rows × 3 columns</p>\n",
       "</div>"
      ],
      "text/plain": [
       "        country   anxiety  year\n",
       "0     Argentina  6.165921  1990\n",
       "1     Argentina  6.174471  1991\n",
       "2     Argentina  6.182707  1992\n",
       "3     Argentina  6.190356  1993\n",
       "4     Argentina  6.197271  1994\n",
       "...         ...       ...   ...\n",
       "5947    Uruguay       NaN  2013\n",
       "5948    Uruguay       NaN  2014\n",
       "5949    Uruguay       NaN  2015\n",
       "5950    Uruguay       NaN  2016\n",
       "5951    Uruguay       NaN  2017\n",
       "\n",
       "[5952 rows x 3 columns]"
      ]
     },
     "execution_count": 106,
     "metadata": {},
     "output_type": "execute_result"
    }
   ],
   "source": [
    "anxiety_dirty = developed[['country','anxiety', 'year']]\n",
    "anxiety_dirty"
   ]
  },
  {
   "cell_type": "code",
   "execution_count": 107,
   "id": "6552c224",
   "metadata": {},
   "outputs": [
    {
     "data": {
      "text/html": [
       "<div>\n",
       "<style scoped>\n",
       "    .dataframe tbody tr th:only-of-type {\n",
       "        vertical-align: middle;\n",
       "    }\n",
       "\n",
       "    .dataframe tbody tr th {\n",
       "        vertical-align: top;\n",
       "    }\n",
       "\n",
       "    .dataframe thead th {\n",
       "        text-align: right;\n",
       "    }\n",
       "</style>\n",
       "<table border=\"1\" class=\"dataframe\">\n",
       "  <thead>\n",
       "    <tr style=\"text-align: right;\">\n",
       "      <th></th>\n",
       "      <th>country</th>\n",
       "      <th>anxiety</th>\n",
       "      <th>year</th>\n",
       "    </tr>\n",
       "  </thead>\n",
       "  <tbody>\n",
       "    <tr>\n",
       "      <th>0</th>\n",
       "      <td>Argentina</td>\n",
       "      <td>6.165921</td>\n",
       "      <td>1990</td>\n",
       "    </tr>\n",
       "    <tr>\n",
       "      <th>1</th>\n",
       "      <td>Argentina</td>\n",
       "      <td>6.174471</td>\n",
       "      <td>1991</td>\n",
       "    </tr>\n",
       "    <tr>\n",
       "      <th>2</th>\n",
       "      <td>Argentina</td>\n",
       "      <td>6.182707</td>\n",
       "      <td>1992</td>\n",
       "    </tr>\n",
       "    <tr>\n",
       "      <th>3</th>\n",
       "      <td>Argentina</td>\n",
       "      <td>6.190356</td>\n",
       "      <td>1993</td>\n",
       "    </tr>\n",
       "    <tr>\n",
       "      <th>4</th>\n",
       "      <td>Argentina</td>\n",
       "      <td>6.197271</td>\n",
       "      <td>1994</td>\n",
       "    </tr>\n",
       "    <tr>\n",
       "      <th>...</th>\n",
       "      <td>...</td>\n",
       "      <td>...</td>\n",
       "      <td>...</td>\n",
       "    </tr>\n",
       "    <tr>\n",
       "      <th>331</th>\n",
       "      <td>Uruguay</td>\n",
       "      <td>6.300966</td>\n",
       "      <td>2013</td>\n",
       "    </tr>\n",
       "    <tr>\n",
       "      <th>332</th>\n",
       "      <td>Uruguay</td>\n",
       "      <td>6.305186</td>\n",
       "      <td>2014</td>\n",
       "    </tr>\n",
       "    <tr>\n",
       "      <th>333</th>\n",
       "      <td>Uruguay</td>\n",
       "      <td>6.309360</td>\n",
       "      <td>2015</td>\n",
       "    </tr>\n",
       "    <tr>\n",
       "      <th>334</th>\n",
       "      <td>Uruguay</td>\n",
       "      <td>6.313555</td>\n",
       "      <td>2016</td>\n",
       "    </tr>\n",
       "    <tr>\n",
       "      <th>335</th>\n",
       "      <td>Uruguay</td>\n",
       "      <td>6.317738</td>\n",
       "      <td>2017</td>\n",
       "    </tr>\n",
       "  </tbody>\n",
       "</table>\n",
       "<p>336 rows × 3 columns</p>\n",
       "</div>"
      ],
      "text/plain": [
       "       country   anxiety  year\n",
       "0    Argentina  6.165921  1990\n",
       "1    Argentina  6.174471  1991\n",
       "2    Argentina  6.182707  1992\n",
       "3    Argentina  6.190356  1993\n",
       "4    Argentina  6.197271  1994\n",
       "..         ...       ...   ...\n",
       "331    Uruguay  6.300966  2013\n",
       "332    Uruguay  6.305186  2014\n",
       "333    Uruguay  6.309360  2015\n",
       "334    Uruguay  6.313555  2016\n",
       "335    Uruguay  6.317738  2017\n",
       "\n",
       "[336 rows x 3 columns]"
      ]
     },
     "execution_count": 107,
     "metadata": {},
     "output_type": "execute_result"
    }
   ],
   "source": [
    "anxiety = anxiety_dirty.dropna(axis='rows')\n",
    "anxiety"
   ]
  },
  {
   "cell_type": "code",
   "execution_count": 108,
   "id": "8c35d3de",
   "metadata": {},
   "outputs": [
    {
     "data": {
      "text/html": [
       "<div>\n",
       "<style scoped>\n",
       "    .dataframe tbody tr th:only-of-type {\n",
       "        vertical-align: middle;\n",
       "    }\n",
       "\n",
       "    .dataframe tbody tr th {\n",
       "        vertical-align: top;\n",
       "    }\n",
       "\n",
       "    .dataframe thead th {\n",
       "        text-align: right;\n",
       "    }\n",
       "</style>\n",
       "<table border=\"1\" class=\"dataframe\">\n",
       "  <thead>\n",
       "    <tr style=\"text-align: right;\">\n",
       "      <th></th>\n",
       "      <th>anxiety</th>\n",
       "    </tr>\n",
       "  </thead>\n",
       "  <tbody>\n",
       "    <tr>\n",
       "      <th>count</th>\n",
       "      <td>336.000000</td>\n",
       "    </tr>\n",
       "    <tr>\n",
       "      <th>mean</th>\n",
       "      <td>5.418840</td>\n",
       "    </tr>\n",
       "    <tr>\n",
       "      <th>std</th>\n",
       "      <td>1.241408</td>\n",
       "    </tr>\n",
       "    <tr>\n",
       "      <th>min</th>\n",
       "      <td>3.376177</td>\n",
       "    </tr>\n",
       "    <tr>\n",
       "      <th>25%</th>\n",
       "      <td>4.392546</td>\n",
       "    </tr>\n",
       "    <tr>\n",
       "      <th>50%</th>\n",
       "      <td>5.857797</td>\n",
       "    </tr>\n",
       "    <tr>\n",
       "      <th>75%</th>\n",
       "      <td>6.574948</td>\n",
       "    </tr>\n",
       "    <tr>\n",
       "      <th>max</th>\n",
       "      <td>6.971995</td>\n",
       "    </tr>\n",
       "  </tbody>\n",
       "</table>\n",
       "</div>"
      ],
      "text/plain": [
       "          anxiety\n",
       "count  336.000000\n",
       "mean     5.418840\n",
       "std      1.241408\n",
       "min      3.376177\n",
       "25%      4.392546\n",
       "50%      5.857797\n",
       "75%      6.574948\n",
       "max      6.971995"
      ]
     },
     "execution_count": 108,
     "metadata": {},
     "output_type": "execute_result"
    }
   ],
   "source": [
    "anxiety.describe()"
   ]
  },
  {
   "cell_type": "code",
   "execution_count": 55,
   "id": "6de5b0cc",
   "metadata": {},
   "outputs": [],
   "source": [
    "## I want to find the mean per country starting in 1990 \n",
    "argentina = anxiety.loc[anxiety.Entity== 'Argentina']\n",
    "uruguay = anxiety.loc[anxiety.Entity== 'Uruguay']\n",
    "usa = anxiety.loc[anxiety.Entity== 'United States']\n",
    "japan = anxiety.loc[anxiety.Entity== 'Japan']\n",
    "australia = anxiety.loc[anxiety.Entity== 'Australia']\n",
    "uk = anxiety.loc[anxiety.Entity== 'United Kingdom']\n",
    "south_korea = anxiety.loc[anxiety.Entity== 'South Korea']\n",
    "denmark = anxiety.loc[anxiety.Entity== 'Denmark']\n",
    "canada = anxiety.loc[anxiety.Entity== 'Canada']\n",
    "france = anxiety.loc[anxiety.Entity== 'France']\n",
    "taiwan = anxiety.loc[anxiety.Entity== 'Taiwan']\n",
    "germany = anxiety.loc[anxiety.Entity== 'Germany']"
   ]
  },
  {
   "cell_type": "code",
   "execution_count": 58,
   "id": "b02a645a",
   "metadata": {},
   "outputs": [
    {
     "data": {
      "text/plain": [
       "6.237986392857143"
      ]
     },
     "execution_count": 58,
     "metadata": {},
     "output_type": "execute_result"
    }
   ],
   "source": [
    "## mean of the country \n",
    "a = argentina.loc[:, 'Anxiety disorders (%)'].mean()"
   ]
  },
  {
   "cell_type": "code",
   "execution_count": 59,
   "id": "836af384",
   "metadata": {},
   "outputs": [
    {
     "data": {
      "text/plain": [
       "6.265410464285713"
      ]
     },
     "execution_count": 59,
     "metadata": {},
     "output_type": "execute_result"
    }
   ],
   "source": [
    "b = uruguay.loc[:, 'Anxiety disorders (%)'].mean()"
   ]
  },
  {
   "cell_type": "code",
   "execution_count": 60,
   "id": "19516830",
   "metadata": {},
   "outputs": [
    {
     "data": {
      "text/plain": [
       "6.741583785714285"
      ]
     },
     "execution_count": 60,
     "metadata": {},
     "output_type": "execute_result"
    }
   ],
   "source": [
    "c = usa.loc[:, 'Anxiety disorders (%)'].mean()"
   ]
  },
  {
   "cell_type": "code",
   "execution_count": 61,
   "id": "2f85749e",
   "metadata": {},
   "outputs": [
    {
     "data": {
      "text/plain": [
       "3.538699357142857"
      ]
     },
     "execution_count": 61,
     "metadata": {},
     "output_type": "execute_result"
    }
   ],
   "source": [
    "d = japan.loc[:, 'Anxiety disorders (%)'].mean()"
   ]
  },
  {
   "cell_type": "code",
   "execution_count": 62,
   "id": "75e0cb74",
   "metadata": {},
   "outputs": [
    {
     "data": {
      "text/plain": [
       "6.550010357142857"
      ]
     },
     "execution_count": 62,
     "metadata": {},
     "output_type": "execute_result"
    }
   ],
   "source": [
    "e = australia.loc[:, 'Anxiety disorders (%)'].mean()"
   ]
  },
  {
   "cell_type": "code",
   "execution_count": 63,
   "id": "ea461078",
   "metadata": {},
   "outputs": [
    {
     "data": {
      "text/plain": [
       "4.633038464285714"
      ]
     },
     "execution_count": 63,
     "metadata": {},
     "output_type": "execute_result"
    }
   ],
   "source": [
    "f = uk.loc[:, 'Anxiety disorders (%)'].mean()"
   ]
  },
  {
   "cell_type": "code",
   "execution_count": 64,
   "id": "b9aa04b3",
   "metadata": {},
   "outputs": [
    {
     "data": {
      "text/plain": [
       "3.786406571428571"
      ]
     },
     "execution_count": 64,
     "metadata": {},
     "output_type": "execute_result"
    }
   ],
   "source": [
    "g = south_korea.loc[:, 'Anxiety disorders (%)'].mean()"
   ]
  },
  {
   "cell_type": "code",
   "execution_count": 65,
   "id": "4ca4848a",
   "metadata": {},
   "outputs": [
    {
     "data": {
      "text/plain": [
       "5.313583892857144"
      ]
     },
     "execution_count": 65,
     "metadata": {},
     "output_type": "execute_result"
    }
   ],
   "source": [
    "h = denmark.loc[:, 'Anxiety disorders (%)'].mean()"
   ]
  },
  {
   "cell_type": "code",
   "execution_count": 66,
   "id": "738c2af3",
   "metadata": {},
   "outputs": [
    {
     "data": {
      "text/plain": [
       "5.213987357142856"
      ]
     },
     "execution_count": 66,
     "metadata": {},
     "output_type": "execute_result"
    }
   ],
   "source": [
    "i = canada.loc[:, 'Anxiety disorders (%)'].mean()"
   ]
  },
  {
   "cell_type": "code",
   "execution_count": 67,
   "id": "ff06217f",
   "metadata": {},
   "outputs": [
    {
     "data": {
      "text/plain": [
       "6.686942392857145"
      ]
     },
     "execution_count": 67,
     "metadata": {},
     "output_type": "execute_result"
    }
   ],
   "source": [
    "j = france.loc[:, 'Anxiety disorders (%)'].mean()"
   ]
  },
  {
   "cell_type": "code",
   "execution_count": 68,
   "id": "5bcef17f",
   "metadata": {},
   "outputs": [
    {
     "data": {
      "text/plain": [
       "3.425401214285714"
      ]
     },
     "execution_count": 68,
     "metadata": {},
     "output_type": "execute_result"
    }
   ],
   "source": [
    "k = taiwan.loc[:, 'Anxiety disorders (%)'].mean()"
   ]
  },
  {
   "cell_type": "code",
   "execution_count": 69,
   "id": "6656eeba",
   "metadata": {},
   "outputs": [
    {
     "data": {
      "text/plain": [
       "6.633030214285715"
      ]
     },
     "execution_count": 69,
     "metadata": {},
     "output_type": "execute_result"
    }
   ],
   "source": [
    "l = germany.loc[:, 'Anxiety disorders (%)'].mean()"
   ]
  },
  {
   "cell_type": "code",
   "execution_count": 88,
   "id": "78151087",
   "metadata": {},
   "outputs": [
    {
     "data": {
      "image/png": "[encoded data removed]",
      "text/plain": [
       "<Figure size 1440x360 with 1 Axes>"
      ]
     },
     "metadata": {
      "needs_background": "light"
     },
     "output_type": "display_data"
    }
   ],
   "source": [
    "## Visualize mean per countries \n",
    "data = {'Argentina':6.237986392857143, 'Uruguay':6.265410464285713, 'USA':6.741583785714285,\n",
    "        'Japan':3.538699357142857, 'Australia':6.550010357142857, 'UK':4.633038464285714,\n",
    "        'S. Korea':3.786406571428571,'Denmark':5.313583892857144,'Canada':5.213987357142856,\n",
    "        'France':6.686942392857145,'Taiwan':3.425401214285714,'Germany':6.633030214285715}\n",
    "country = list(data.keys())\n",
    "mean = list(data.values())\n",
    "  \n",
    "fig = plt.figure(figsize = (20, 5))\n",
    "c = ['maroon', 'maroon', 'pink', 'maroon', 'maroon','maroon','maroon','maroon', 'maroon', 'maroon', 'maroon','maroon']\n",
    "# creating the bar plot\n",
    "plt.bar(country, mean, color = c,\n",
    "        width = 0.4)\n",
    "\n",
    "plt.xlabel(\"Developed Countries\")\n",
    "plt.ylabel(\"Mean of Anxiety % within the past 20 years\")\n",
    "plt.title(\"Anxiety Disorder Percentage Mean Comparison\")\n",
    "plt.show()\n"
   ]
  },
  {
   "cell_type": "code",
   "execution_count": 103,
   "id": "1b604829",
   "metadata": {},
   "outputs": [
    {
     "data": {
      "text/html": [
       "<table class=\"simpletable\">\n",
       "<caption>OLS Regression Results</caption>\n",
       "<tr>\n",
       "  <th>Dep. Variable:</th>         <td>anxiety</td>     <th>  R-squared:         </th> <td>   0.151</td>\n",
       "</tr>\n",
       "<tr>\n",
       "  <th>Model:</th>                   <td>OLS</td>       <th>  Adj. R-squared:    </th> <td>   0.146</td>\n",
       "</tr>\n",
       "<tr>\n",
       "  <th>Method:</th>             <td>Least Squares</td>  <th>  F-statistic:       </th> <td>   29.61</td>\n",
       "</tr>\n",
       "<tr>\n",
       "  <th>Date:</th>             <td>Fri, 03 Mar 2023</td> <th>  Prob (F-statistic):</th> <td>1.46e-12</td>\n",
       "</tr>\n",
       "<tr>\n",
       "  <th>Time:</th>                 <td>19:23:21</td>     <th>  Log-Likelihood:    </th> <td> -521.42</td>\n",
       "</tr>\n",
       "<tr>\n",
       "  <th>No. Observations:</th>      <td>   336</td>      <th>  AIC:               </th> <td>   1049.</td>\n",
       "</tr>\n",
       "<tr>\n",
       "  <th>Df Residuals:</th>          <td>   333</td>      <th>  BIC:               </th> <td>   1060.</td>\n",
       "</tr>\n",
       "<tr>\n",
       "  <th>Df Model:</th>              <td>     2</td>      <th>                     </th>     <td> </td>   \n",
       "</tr>\n",
       "<tr>\n",
       "  <th>Covariance Type:</th>      <td>nonrobust</td>    <th>                     </th>     <td> </td>   \n",
       "</tr>\n",
       "</table>\n",
       "<table class=\"simpletable\">\n",
       "<tr>\n",
       "      <td></td>         <th>coef</th>     <th>std err</th>      <th>t</th>      <th>P>|t|</th>  <th>[0.025</th>    <th>0.975]</th>  \n",
       "</tr>\n",
       "<tr>\n",
       "  <th>Intercept</th> <td>    3.9281</td> <td>    0.253</td> <td>   15.552</td> <td> 0.000</td> <td>    3.431</td> <td>    4.425</td>\n",
       "</tr>\n",
       "<tr>\n",
       "  <th>drug</th>      <td>    0.6206</td> <td>    0.093</td> <td>    6.653</td> <td> 0.000</td> <td>    0.437</td> <td>    0.804</td>\n",
       "</tr>\n",
       "<tr>\n",
       "  <th>alcohol</th>   <td>    0.4024</td> <td>    0.140</td> <td>    2.876</td> <td> 0.004</td> <td>    0.127</td> <td>    0.678</td>\n",
       "</tr>\n",
       "</table>\n",
       "<table class=\"simpletable\">\n",
       "<tr>\n",
       "  <th>Omnibus:</th>       <td>5137.737</td> <th>  Durbin-Watson:     </th> <td>   0.036</td>\n",
       "</tr>\n",
       "<tr>\n",
       "  <th>Prob(Omnibus):</th>  <td> 0.000</td>  <th>  Jarque-Bera (JB):  </th> <td>  31.404</td>\n",
       "</tr>\n",
       "<tr>\n",
       "  <th>Skew:</th>           <td>-0.154</td>  <th>  Prob(JB):          </th> <td>1.52e-07</td>\n",
       "</tr>\n",
       "<tr>\n",
       "  <th>Kurtosis:</th>       <td> 1.534</td>  <th>  Cond. No.          </th> <td>    10.8</td>\n",
       "</tr>\n",
       "</table><br/><br/>Notes:<br/>[1] Standard Errors assume that the covariance matrix of the errors is correctly specified."
      ],
      "text/plain": [
       "<class 'statsmodels.iolib.summary.Summary'>\n",
       "\"\"\"\n",
       "                            OLS Regression Results                            \n",
       "==============================================================================\n",
       "Dep. Variable:                anxiety   R-squared:                       0.151\n",
       "Model:                            OLS   Adj. R-squared:                  0.146\n",
       "Method:                 Least Squares   F-statistic:                     29.61\n",
       "Date:                Fri, 03 Mar 2023   Prob (F-statistic):           1.46e-12\n",
       "Time:                        19:23:21   Log-Likelihood:                -521.42\n",
       "No. Observations:                 336   AIC:                             1049.\n",
       "Df Residuals:                     333   BIC:                             1060.\n",
       "Df Model:                           2                                         \n",
       "Covariance Type:            nonrobust                                         \n",
       "==============================================================================\n",
       "                 coef    std err          t      P>|t|      [0.025      0.975]\n",
       "------------------------------------------------------------------------------\n",
       "Intercept      3.9281      0.253     15.552      0.000       3.431       4.425\n",
       "drug           0.6206      0.093      6.653      0.000       0.437       0.804\n",
       "alcohol        0.4024      0.140      2.876      0.004       0.127       0.678\n",
       "==============================================================================\n",
       "Omnibus:                     5137.737   Durbin-Watson:                   0.036\n",
       "Prob(Omnibus):                  0.000   Jarque-Bera (JB):               31.404\n",
       "Skew:                          -0.154   Prob(JB):                     1.52e-07\n",
       "Kurtosis:                       1.534   Cond. No.                         10.8\n",
       "==============================================================================\n",
       "\n",
       "Notes:\n",
       "[1] Standard Errors assume that the covariance matrix of the errors is correctly specified.\n",
       "\"\"\""
      ]
     },
     "execution_count": 103,
     "metadata": {},
     "output_type": "execute_result"
    }
   ],
   "source": [
    "## Run one of these bad boys on anxiety disorder based on country \n",
    "ols_object = smf.ols(formula = 'anxiety~drug+alcohol', data = developed)\n",
    "model = ols_object.fit()\n",
    "model.summary()"
   ]
  },
  {
   "cell_type": "code",
   "execution_count": null,
   "id": "6b0fb018",
   "metadata": {},
   "outputs": [],
   "source": []
  },
  {
   "cell_type": "code",
   "execution_count": null,
   "id": "c13146bc",
   "metadata": {},
   "outputs": [],
   "source": []
  }
 ],
 "metadata": {
  "kernelspec": {
   "display_name": "Python 3 (ipykernel)",
   "language": "python",
   "name": "python3"
  },
  "language_info": {
   "codemirror_mode": {
    "name": "ipython",
    "version": 3
   },
   "file_extension": ".py",
   "mimetype": "text/x-python",
   "name": "python",
   "nbconvert_exporter": "python",
   "pygments_lexer": "ipython3",
   "version": "3.9.12"
  }
 },
 "nbformat": 4,
 "nbformat_minor": 5
}
